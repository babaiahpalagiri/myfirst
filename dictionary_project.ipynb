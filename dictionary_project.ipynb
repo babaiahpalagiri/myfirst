{
 "cells": [
  {
   "cell_type": "code",
   "execution_count": null,
   "id": "c9bcce00-a41d-419b-a0aa-7b1565ead52a",
   "metadata": {},
   "outputs": [
    {
     "name": "stdout",
     "output_type": "stream",
     "text": [
      "1 Add Word to dictionary\n",
      "2 Search for meaning\n",
      "3 Display all words\n",
      "4 Update meaning\n",
      "5 Delete Word\n",
      "6 Exit\n"
     ]
    },
    {
     "name": "stdin",
     "output_type": "stream",
     "text": [
      "Enter your choice:  3\n"
     ]
    },
    {
     "name": "stdout",
     "output_type": "stream",
     "text": [
      "{}\n",
      "1 Add Word to dictionary\n",
      "2 Search for meaning\n",
      "3 Display all words\n",
      "4 Update meaning\n",
      "5 Delete Word\n",
      "6 Exit\n"
     ]
    },
    {
     "name": "stdin",
     "output_type": "stream",
     "text": [
      "Enter your choice:  1\n",
      "Enter your word:  python\n",
      "Enter word meaning:  it's programming language\n"
     ]
    },
    {
     "name": "stdout",
     "output_type": "stream",
     "text": [
      "Word added successfully to dictionary\n",
      "1 Add Word to dictionary\n",
      "2 Search for meaning\n",
      "3 Display all words\n",
      "4 Update meaning\n",
      "5 Delete Word\n",
      "6 Exit\n"
     ]
    },
    {
     "name": "stdin",
     "output_type": "stream",
     "text": [
      "Enter your choice:  2\n",
      "Enter your word:  python\n"
     ]
    },
    {
     "name": "stdout",
     "output_type": "stream",
     "text": [
      "meaning of the word is  it's programming language\n",
      "1 Add Word to dictionary\n",
      "2 Search for meaning\n",
      "3 Display all words\n",
      "4 Update meaning\n",
      "5 Delete Word\n",
      "6 Exit\n"
     ]
    }
   ],
   "source": [
    "dict = {}\n",
    "\n",
    "while True:\n",
    "    print(\"1 Add Word to dictionary\")\n",
    "    print(\"2 Search for meaning\")\n",
    "    print(\"3 Display all words\")\n",
    "    print(\"4 Update meaning\")\n",
    "    print(\"5 Delete Word\")\n",
    "    print(\"6 Exit\")\n",
    "\n",
    "    choice = input(\"Enter your choice: \")\n",
    "\n",
    "    if choice == '1':\n",
    "        word = input(\"Enter your word: \")\n",
    "        meaning = input(\"Enter word meaning: \")\n",
    "        dict[word] = meaning\n",
    "        print(\"Word added successfully to dictionary\")\n",
    "\n",
    "    if choice == '2':\n",
    "        word = input(\"Enter your word: \")\n",
    "        if word in dict:\n",
    "            print(\"meaning of the word is \", dict[word])\n",
    "        else:\n",
    "            print(\"Word is not available in dictionary\")\n",
    "            \n",
    "    elif choice == '3':\n",
    "        print(dict)\n",
    "        \n",
    "    elif choice == '4':\n",
    "        word = input(\"Enter your word: \")\n",
    "        if word in dict:\n",
    "            meaning = input(\"Enter meaning of the word: \")\n",
    "            dict[word] = meaning\n",
    "            print(\"Word meaning updataed successfully\")\n",
    "        else:\n",
    "            print(\"Word is not available in dictionary\")\n",
    "\n",
    "    elif choice == '5':\n",
    "        word = input(\"Enter your word: \")\n",
    "        if word in dict:\n",
    "            del dict[word]\n",
    "            print(\"Word Deleted Successfully\")\n",
    "        else:\n",
    "            print(\"Word not availabe in dictionary\")\n",
    "            \n",
    "    elif choice == '6':\n",
    "        break"
   ]
  },
  {
   "cell_type": "code",
   "execution_count": null,
   "id": "ffd3745b-f045-4a2f-924f-36fd9bd1363c",
   "metadata": {},
   "outputs": [],
   "source": []
  }
 ],
 "metadata": {
  "kernelspec": {
   "display_name": "Python 3 (ipykernel)",
   "language": "python",
   "name": "python3"
  },
  "language_info": {
   "codemirror_mode": {
    "name": "ipython",
    "version": 3
   },
   "file_extension": ".py",
   "mimetype": "text/x-python",
   "name": "python",
   "nbconvert_exporter": "python",
   "pygments_lexer": "ipython3",
   "version": "3.13.2"
  }
 },
 "nbformat": 4,
 "nbformat_minor": 5
}
