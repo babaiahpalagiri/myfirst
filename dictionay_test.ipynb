{
 "cells": [
  {
   "cell_type": "code",
   "execution_count": 8,
   "id": "cf1231bd-3d19-4dad-ae5d-dd2868e96773",
   "metadata": {},
   "outputs": [
    {
     "name": "stdout",
     "output_type": "stream",
     "text": [
      "{'user1': 'user1@123', 'user2': 'user2@123', 'user3': 'user3@123'}\n",
      "dict_keys(['user1', 'user2', 'user3'])\n",
      "dict_values(['user1@123', 'user2@123', 'user3@123'])\n",
      "dict_items([('user1', 'user1@123'), ('user2', 'user2@123'), ('user3', 'user3@123')])\n",
      "{'user2': 'user2@123', 'user3': 'user3@123'}\n"
     ]
    }
   ],
   "source": [
    "my_dictionary = {\"user1\": \"user1@123\",\n",
    "                \"user2\": \"user2@123\",\n",
    "                \"user3\" : \"user3@123\"}\n",
    "\n",
    "print(my_dictionary)\n",
    "print(my_dictionary.keys())\n",
    "print(my_dictionary.values())\n",
    "print(my_dictionary.items())\n",
    "################################# \n",
    "my_dictionary.pop(\"user1\")\n",
    "print(my_dictionary)\n"
   ]
  },
  {
   "cell_type": "code",
   "execution_count": 11,
   "id": "066313f1-ed4b-4848-89c0-dfc7ace3d9ff",
   "metadata": {},
   "outputs": [
    {
     "name": "stdout",
     "output_type": "stream",
     "text": [
      "{'name1': 'user1', 'name2': 'user2', 'name3': 'user3'}\n"
     ]
    }
   ],
   "source": [
    "dict1 = {\"name1\": \"user1\", \"name2\" : \"user2\"}\n",
    "sample1 = {\"name3\" : \"user3\"}\n",
    "dict1.update(sample1)\n",
    "print(dict1)"
   ]
  },
  {
   "cell_type": "code",
   "execution_count": 13,
   "id": "c0f1f342-aaad-4674-98da-aab22da83c40",
   "metadata": {},
   "outputs": [
    {
     "name": "stdout",
     "output_type": "stream",
     "text": [
      "{'name1': 'user1'}\n"
     ]
    }
   ],
   "source": [
    "empty_dict = {}\n",
    "sample = {\"name1\" : \"user1\"}\n",
    "empty_dict.update(sample)\n",
    "print(empty_dict)"
   ]
  },
  {
   "cell_type": "code",
   "execution_count": 8,
   "id": "ccdc19fa-fca2-48fb-84aa-7b6230551b47",
   "metadata": {},
   "outputs": [
    {
     "name": "stdout",
     "output_type": "stream",
     "text": [
      "{4}\n",
      "{1, 2, 3, 4, 5, 6}\n",
      "{1, 2, 3, 5, 6}\n"
     ]
    }
   ],
   "source": [
    "s1 = {1,2,3,4}\n",
    "s2 = {4,5,6}\n",
    "print(s1.intersection(s2))\n",
    "print(s1.union(s2))\n",
    "print(s1.symmetric_difference(s2))\n"
   ]
  },
  {
   "cell_type": "code",
   "execution_count": null,
   "id": "69a044d8-8c86-48fe-991e-1d0415e79a1a",
   "metadata": {},
   "outputs": [],
   "source": []
  },
  {
   "cell_type": "code",
   "execution_count": null,
   "id": "45bb1a86-ea1f-4bb8-9a65-0ee12b7e6d69",
   "metadata": {},
   "outputs": [],
   "source": []
  },
  {
   "cell_type": "code",
   "execution_count": null,
   "id": "9663e76a-d1ae-4a5d-8d69-ca8f447e9e2e",
   "metadata": {},
   "outputs": [],
   "source": []
  }
 ],
 "metadata": {
  "kernelspec": {
   "display_name": "Python 3 (ipykernel)",
   "language": "python",
   "name": "python3"
  },
  "language_info": {
   "codemirror_mode": {
    "name": "ipython",
    "version": 3
   },
   "file_extension": ".py",
   "mimetype": "text/x-python",
   "name": "python",
   "nbconvert_exporter": "python",
   "pygments_lexer": "ipython3",
   "version": "3.13.2"
  }
 },
 "nbformat": 4,
 "nbformat_minor": 5
}
